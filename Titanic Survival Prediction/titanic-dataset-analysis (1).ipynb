{
 "cells": [
  {
   "cell_type": "markdown",
   "id": "f2708c09",
   "metadata": {},
   "source": [
    "# Import Libraries"
   ]
  },
  {
   "cell_type": "code",
   "execution_count": 1,
   "id": "f9cbb0c0",
   "metadata": {
    "execution": {
     "iopub.execute_input": "2023-07-01T18:13:05.117054Z",
     "iopub.status.busy": "2023-07-01T18:13:05.116624Z",
     "iopub.status.idle": "2023-07-01T18:13:06.552702Z",
     "shell.execute_reply": "2023-07-01T18:13:06.550464Z"
    },
    "papermill": {
     "duration": 1.449601,
     "end_time": "2023-07-01T18:13:06.554880",
     "exception": false,
     "start_time": "2023-07-01T18:13:05.105279",
     "status": "completed"
    },
    "scrolled": false,
    "tags": []
   },
   "outputs": [
    {
     "name": "stdout",
     "output_type": "stream",
     "text": [
      "Pandas version: 1.5.3\n",
      "NumPy version: 1.23.5\n",
      "Matplotlib version: 3.7.0\n",
      "seaborn version: 0.12.2\n"
     ]
    }
   ],
   "source": [
    "import pandas as pd\n",
    "import numpy as np\n",
    "import matplotlib as mpl\n",
    "import matplotlib.pyplot as plt\n",
    "import seaborn as sns\n",
    "''' ------------------------------------------'''\n",
    "print(\"Pandas version:\", pd.__version__)\n",
    "print(\"NumPy version:\", np.__version__)\n",
    "print(\"Matplotlib version:\", mpl.__version__)\n",
    "print(\"seaborn version:\", sns.__version__)"
   ]
  },
  {
   "cell_type": "markdown",
   "id": "9c7a9f7f",
   "metadata": {
    "papermill": {
     "duration": 0.009138,
     "end_time": "2023-07-01T18:13:06.573533",
     "exception": false,
     "start_time": "2023-07-01T18:13:06.564395",
     "status": "completed"
    },
    "tags": []
   },
   "source": [
    "# Reading The dataset:"
   ]
  },
  {
   "cell_type": "code",
   "execution_count": 2,
   "id": "a08facd4",
   "metadata": {
    "execution": {
     "iopub.execute_input": "2023-07-01T18:13:06.593282Z",
     "iopub.status.busy": "2023-07-01T18:13:06.592893Z",
     "iopub.status.idle": "2023-07-01T18:13:06.624187Z",
     "shell.execute_reply": "2023-07-01T18:13:06.622762Z"
    },
    "papermill": {
     "duration": 0.043699,
     "end_time": "2023-07-01T18:13:06.626321",
     "exception": false,
     "start_time": "2023-07-01T18:13:06.582622",
     "status": "completed"
    },
    "tags": []
   },
   "outputs": [
    {
     "name": "stdout",
     "output_type": "stream",
     "text": [
      "Done\n"
     ]
    }
   ],
   "source": [
    "# Read the Iris dataset file\n",
    "data = pd.read_csv('C:\\\\Users\\\\Tushar srivastava\\\\Downloads\\\\tested.csv')\n",
    "print(\"Done\")\n",
    "#C:\\Users\\Tushar srivastava\\Downloads\\tested.csv"
   ]
  },
  {
   "cell_type": "markdown",
   "id": "3c16a19d",
   "metadata": {
    "papermill": {
     "duration": 0.008889,
     "end_time": "2023-07-01T18:13:06.644594",
     "exception": false,
     "start_time": "2023-07-01T18:13:06.635705",
     "status": "completed"
    },
    "tags": []
   },
   "source": [
    "# Exploring the dataset:"
   ]
  },
  {
   "cell_type": "code",
   "execution_count": 3,
   "id": "f9f04820",
   "metadata": {
    "execution": {
     "iopub.execute_input": "2023-07-01T18:13:06.664488Z",
     "iopub.status.busy": "2023-07-01T18:13:06.664109Z",
     "iopub.status.idle": "2023-07-01T18:13:06.670665Z",
     "shell.execute_reply": "2023-07-01T18:13:06.669855Z"
    },
    "papermill": {
     "duration": 0.019204,
     "end_time": "2023-07-01T18:13:06.672869",
     "exception": false,
     "start_time": "2023-07-01T18:13:06.653665",
     "status": "completed"
    },
    "tags": []
   },
   "outputs": [
    {
     "data": {
      "text/plain": [
       "Index(['PassengerId', 'Survived', 'Pclass', 'Name', 'Sex', 'Age', 'SibSp',\n",
       "       'Parch', 'Ticket', 'Fare', 'Cabin', 'Embarked'],\n",
       "      dtype='object')"
      ]
     },
     "execution_count": 3,
     "metadata": {},
     "output_type": "execute_result"
    }
   ],
   "source": [
    "# dataset columns\n",
    "data.columns"
   ]
  },
  {
   "cell_type": "code",
   "execution_count": 4,
   "id": "6e3a8d49",
   "metadata": {
    "execution": {
     "iopub.execute_input": "2023-07-01T18:13:06.694448Z",
     "iopub.status.busy": "2023-07-01T18:13:06.693539Z",
     "iopub.status.idle": "2023-07-01T18:13:06.731243Z",
     "shell.execute_reply": "2023-07-01T18:13:06.730078Z"
    },
    "papermill": {
     "duration": 0.050606,
     "end_time": "2023-07-01T18:13:06.733075",
     "exception": false,
     "start_time": "2023-07-01T18:13:06.682469",
     "status": "completed"
    },
    "tags": []
   },
   "outputs": [
    {
     "data": {
      "text/html": [
       "<div>\n",
       "<style scoped>\n",
       "    .dataframe tbody tr th:only-of-type {\n",
       "        vertical-align: middle;\n",
       "    }\n",
       "\n",
       "    .dataframe tbody tr th {\n",
       "        vertical-align: top;\n",
       "    }\n",
       "\n",
       "    .dataframe thead th {\n",
       "        text-align: right;\n",
       "    }\n",
       "</style>\n",
       "<table border=\"1\" class=\"dataframe\">\n",
       "  <thead>\n",
       "    <tr style=\"text-align: right;\">\n",
       "      <th></th>\n",
       "      <th>PassengerId</th>\n",
       "      <th>Survived</th>\n",
       "      <th>Pclass</th>\n",
       "      <th>Name</th>\n",
       "      <th>Sex</th>\n",
       "      <th>Age</th>\n",
       "      <th>SibSp</th>\n",
       "      <th>Parch</th>\n",
       "      <th>Ticket</th>\n",
       "      <th>Fare</th>\n",
       "      <th>Cabin</th>\n",
       "      <th>Embarked</th>\n",
       "    </tr>\n",
       "  </thead>\n",
       "  <tbody>\n",
       "    <tr>\n",
       "      <th>0</th>\n",
       "      <td>892</td>\n",
       "      <td>0</td>\n",
       "      <td>3</td>\n",
       "      <td>Kelly, Mr. James</td>\n",
       "      <td>male</td>\n",
       "      <td>34.5</td>\n",
       "      <td>0</td>\n",
       "      <td>0</td>\n",
       "      <td>330911</td>\n",
       "      <td>7.8292</td>\n",
       "      <td>NaN</td>\n",
       "      <td>Q</td>\n",
       "    </tr>\n",
       "    <tr>\n",
       "      <th>1</th>\n",
       "      <td>893</td>\n",
       "      <td>1</td>\n",
       "      <td>3</td>\n",
       "      <td>Wilkes, Mrs. James (Ellen Needs)</td>\n",
       "      <td>female</td>\n",
       "      <td>47.0</td>\n",
       "      <td>1</td>\n",
       "      <td>0</td>\n",
       "      <td>363272</td>\n",
       "      <td>7.0000</td>\n",
       "      <td>NaN</td>\n",
       "      <td>S</td>\n",
       "    </tr>\n",
       "    <tr>\n",
       "      <th>2</th>\n",
       "      <td>894</td>\n",
       "      <td>0</td>\n",
       "      <td>2</td>\n",
       "      <td>Myles, Mr. Thomas Francis</td>\n",
       "      <td>male</td>\n",
       "      <td>62.0</td>\n",
       "      <td>0</td>\n",
       "      <td>0</td>\n",
       "      <td>240276</td>\n",
       "      <td>9.6875</td>\n",
       "      <td>NaN</td>\n",
       "      <td>Q</td>\n",
       "    </tr>\n",
       "    <tr>\n",
       "      <th>3</th>\n",
       "      <td>895</td>\n",
       "      <td>0</td>\n",
       "      <td>3</td>\n",
       "      <td>Wirz, Mr. Albert</td>\n",
       "      <td>male</td>\n",
       "      <td>27.0</td>\n",
       "      <td>0</td>\n",
       "      <td>0</td>\n",
       "      <td>315154</td>\n",
       "      <td>8.6625</td>\n",
       "      <td>NaN</td>\n",
       "      <td>S</td>\n",
       "    </tr>\n",
       "    <tr>\n",
       "      <th>4</th>\n",
       "      <td>896</td>\n",
       "      <td>1</td>\n",
       "      <td>3</td>\n",
       "      <td>Hirvonen, Mrs. Alexander (Helga E Lindqvist)</td>\n",
       "      <td>female</td>\n",
       "      <td>22.0</td>\n",
       "      <td>1</td>\n",
       "      <td>1</td>\n",
       "      <td>3101298</td>\n",
       "      <td>12.2875</td>\n",
       "      <td>NaN</td>\n",
       "      <td>S</td>\n",
       "    </tr>\n",
       "  </tbody>\n",
       "</table>\n",
       "</div>"
      ],
      "text/plain": [
       "   PassengerId  Survived  Pclass  \\\n",
       "0          892         0       3   \n",
       "1          893         1       3   \n",
       "2          894         0       2   \n",
       "3          895         0       3   \n",
       "4          896         1       3   \n",
       "\n",
       "                                           Name     Sex   Age  SibSp  Parch  \\\n",
       "0                              Kelly, Mr. James    male  34.5      0      0   \n",
       "1              Wilkes, Mrs. James (Ellen Needs)  female  47.0      1      0   \n",
       "2                     Myles, Mr. Thomas Francis    male  62.0      0      0   \n",
       "3                              Wirz, Mr. Albert    male  27.0      0      0   \n",
       "4  Hirvonen, Mrs. Alexander (Helga E Lindqvist)  female  22.0      1      1   \n",
       "\n",
       "    Ticket     Fare Cabin Embarked  \n",
       "0   330911   7.8292   NaN        Q  \n",
       "1   363272   7.0000   NaN        S  \n",
       "2   240276   9.6875   NaN        Q  \n",
       "3   315154   8.6625   NaN        S  \n",
       "4  3101298  12.2875   NaN        S  "
      ]
     },
     "execution_count": 4,
     "metadata": {},
     "output_type": "execute_result"
    }
   ],
   "source": [
    "data.head()"
   ]
  },
  {
   "cell_type": "code",
   "execution_count": 5,
   "id": "315c0196",
   "metadata": {
    "execution": {
     "iopub.execute_input": "2023-07-01T18:13:06.755448Z",
     "iopub.status.busy": "2023-07-01T18:13:06.755058Z",
     "iopub.status.idle": "2023-07-01T18:13:06.770091Z",
     "shell.execute_reply": "2023-07-01T18:13:06.769123Z"
    },
    "papermill": {
     "duration": 0.029979,
     "end_time": "2023-07-01T18:13:06.772713",
     "exception": false,
     "start_time": "2023-07-01T18:13:06.742734",
     "status": "completed"
    },
    "tags": []
   },
   "outputs": [
    {
     "name": "stdout",
     "output_type": "stream",
     "text": [
      "   Survived  Pclass     Sex   Age     Fare Embarked\n",
      "0         0       3    male  34.5   7.8292        Q\n",
      "1         1       3  female  47.0   7.0000        S\n",
      "2         0       2    male  62.0   9.6875        Q\n",
      "3         0       3    male  27.0   8.6625        S\n",
      "4         1       3  female  22.0  12.2875        S\n"
     ]
    }
   ],
   "source": [
    "# drop some columns :\n",
    "data = data.drop(columns=['PassengerId', 'Name', 'SibSp', 'Parch', 'Ticket', 'Cabin'])\n",
    "print (data.head())"
   ]
  },
  {
   "cell_type": "code",
   "execution_count": 6,
   "id": "eb22626b",
   "metadata": {
    "execution": {
     "iopub.execute_input": "2023-07-01T18:13:06.794019Z",
     "iopub.status.busy": "2023-07-01T18:13:06.793425Z",
     "iopub.status.idle": "2023-07-01T18:13:06.801181Z",
     "shell.execute_reply": "2023-07-01T18:13:06.799463Z"
    },
    "papermill": {
     "duration": 0.020943,
     "end_time": "2023-07-01T18:13:06.803467",
     "exception": false,
     "start_time": "2023-07-01T18:13:06.782524",
     "status": "completed"
    },
    "tags": []
   },
   "outputs": [
    {
     "data": {
      "text/plain": [
       "Index(['Survived', 'Pclass', 'Sex', 'Age', 'Fare', 'Embarked'], dtype='object')"
      ]
     },
     "execution_count": 6,
     "metadata": {},
     "output_type": "execute_result"
    }
   ],
   "source": [
    "# print columns after edit:\n",
    "data.columns"
   ]
  },
  {
   "cell_type": "code",
   "execution_count": 7,
   "id": "7d5cbbd9",
   "metadata": {
    "execution": {
     "iopub.execute_input": "2023-07-01T18:13:06.824719Z",
     "iopub.status.busy": "2023-07-01T18:13:06.824343Z",
     "iopub.status.idle": "2023-07-01T18:13:06.846877Z",
     "shell.execute_reply": "2023-07-01T18:13:06.845829Z"
    },
    "papermill": {
     "duration": 0.035867,
     "end_time": "2023-07-01T18:13:06.849110",
     "exception": false,
     "start_time": "2023-07-01T18:13:06.813243",
     "status": "completed"
    },
    "tags": []
   },
   "outputs": [
    {
     "data": {
      "text/html": [
       "<div>\n",
       "<style scoped>\n",
       "    .dataframe tbody tr th:only-of-type {\n",
       "        vertical-align: middle;\n",
       "    }\n",
       "\n",
       "    .dataframe tbody tr th {\n",
       "        vertical-align: top;\n",
       "    }\n",
       "\n",
       "    .dataframe thead th {\n",
       "        text-align: right;\n",
       "    }\n",
       "</style>\n",
       "<table border=\"1\" class=\"dataframe\">\n",
       "  <thead>\n",
       "    <tr style=\"text-align: right;\">\n",
       "      <th></th>\n",
       "      <th>Survived</th>\n",
       "      <th>Pclass</th>\n",
       "      <th>Age</th>\n",
       "      <th>Fare</th>\n",
       "    </tr>\n",
       "  </thead>\n",
       "  <tbody>\n",
       "    <tr>\n",
       "      <th>count</th>\n",
       "      <td>418.000000</td>\n",
       "      <td>418.000000</td>\n",
       "      <td>332.000000</td>\n",
       "      <td>417.000000</td>\n",
       "    </tr>\n",
       "    <tr>\n",
       "      <th>mean</th>\n",
       "      <td>0.363636</td>\n",
       "      <td>2.265550</td>\n",
       "      <td>30.272590</td>\n",
       "      <td>35.627188</td>\n",
       "    </tr>\n",
       "    <tr>\n",
       "      <th>std</th>\n",
       "      <td>0.481622</td>\n",
       "      <td>0.841838</td>\n",
       "      <td>14.181209</td>\n",
       "      <td>55.907576</td>\n",
       "    </tr>\n",
       "    <tr>\n",
       "      <th>min</th>\n",
       "      <td>0.000000</td>\n",
       "      <td>1.000000</td>\n",
       "      <td>0.170000</td>\n",
       "      <td>0.000000</td>\n",
       "    </tr>\n",
       "    <tr>\n",
       "      <th>25%</th>\n",
       "      <td>0.000000</td>\n",
       "      <td>1.000000</td>\n",
       "      <td>21.000000</td>\n",
       "      <td>7.895800</td>\n",
       "    </tr>\n",
       "    <tr>\n",
       "      <th>50%</th>\n",
       "      <td>0.000000</td>\n",
       "      <td>3.000000</td>\n",
       "      <td>27.000000</td>\n",
       "      <td>14.454200</td>\n",
       "    </tr>\n",
       "    <tr>\n",
       "      <th>75%</th>\n",
       "      <td>1.000000</td>\n",
       "      <td>3.000000</td>\n",
       "      <td>39.000000</td>\n",
       "      <td>31.500000</td>\n",
       "    </tr>\n",
       "    <tr>\n",
       "      <th>max</th>\n",
       "      <td>1.000000</td>\n",
       "      <td>3.000000</td>\n",
       "      <td>76.000000</td>\n",
       "      <td>512.329200</td>\n",
       "    </tr>\n",
       "  </tbody>\n",
       "</table>\n",
       "</div>"
      ],
      "text/plain": [
       "         Survived      Pclass         Age        Fare\n",
       "count  418.000000  418.000000  332.000000  417.000000\n",
       "mean     0.363636    2.265550   30.272590   35.627188\n",
       "std      0.481622    0.841838   14.181209   55.907576\n",
       "min      0.000000    1.000000    0.170000    0.000000\n",
       "25%      0.000000    1.000000   21.000000    7.895800\n",
       "50%      0.000000    3.000000   27.000000   14.454200\n",
       "75%      1.000000    3.000000   39.000000   31.500000\n",
       "max      1.000000    3.000000   76.000000  512.329200"
      ]
     },
     "execution_count": 7,
     "metadata": {},
     "output_type": "execute_result"
    }
   ],
   "source": [
    "data.describe()"
   ]
  },
  {
   "cell_type": "code",
   "execution_count": 8,
   "id": "92f8f572",
   "metadata": {
    "execution": {
     "iopub.execute_input": "2023-07-01T18:13:06.870813Z",
     "iopub.status.busy": "2023-07-01T18:13:06.870283Z",
     "iopub.status.idle": "2023-07-01T18:13:06.878411Z",
     "shell.execute_reply": "2023-07-01T18:13:06.877345Z"
    },
    "papermill": {
     "duration": 0.021342,
     "end_time": "2023-07-01T18:13:06.880494",
     "exception": false,
     "start_time": "2023-07-01T18:13:06.859152",
     "status": "completed"
    },
    "tags": []
   },
   "outputs": [
    {
     "data": {
      "text/plain": [
       "Survived     0\n",
       "Pclass       0\n",
       "Sex          0\n",
       "Age         86\n",
       "Fare         1\n",
       "Embarked     0\n",
       "dtype: int64"
      ]
     },
     "execution_count": 8,
     "metadata": {},
     "output_type": "execute_result"
    }
   ],
   "source": [
    "data.isnull().sum()"
   ]
  },
  {
   "cell_type": "markdown",
   "id": "29791912",
   "metadata": {
    "papermill": {
     "duration": 0.009709,
     "end_time": "2023-07-01T18:13:06.900366",
     "exception": false,
     "start_time": "2023-07-01T18:13:06.890657",
     "status": "completed"
    },
    "tags": []
   },
   "source": [
    "#### In the previous table, it is evident that there are some missing data that need to be addressed and handled."
   ]
  },
  {
   "cell_type": "markdown",
   "id": "7a387909",
   "metadata": {
    "papermill": {
     "duration": 0.009877,
     "end_time": "2023-07-01T18:13:06.920270",
     "exception": false,
     "start_time": "2023-07-01T18:13:06.910393",
     "status": "completed"
    },
    "tags": []
   },
   "source": [
    "# **Cleaning the dataset:**"
   ]
  },
  {
   "cell_type": "code",
   "execution_count": 9,
   "id": "9969b567",
   "metadata": {
    "execution": {
     "iopub.execute_input": "2023-07-01T18:13:06.942535Z",
     "iopub.status.busy": "2023-07-01T18:13:06.941876Z",
     "iopub.status.idle": "2023-07-01T18:13:06.948490Z",
     "shell.execute_reply": "2023-07-01T18:13:06.947221Z"
    },
    "papermill": {
     "duration": 0.019674,
     "end_time": "2023-07-01T18:13:06.950361",
     "exception": false,
     "start_time": "2023-07-01T18:13:06.930687",
     "status": "completed"
    },
    "tags": []
   },
   "outputs": [
    {
     "name": "stdout",
     "output_type": "stream",
     "text": [
      "Survived      int64\n",
      "Pclass        int64\n",
      "Sex          object\n",
      "Age         float64\n",
      "Fare        float64\n",
      "Embarked     object\n",
      "dtype: object\n"
     ]
    }
   ],
   "source": [
    "# printing the data type of each column in this dataset\n",
    "print(data.dtypes)\n"
   ]
  },
  {
   "cell_type": "markdown",
   "id": "e4dd8ff1",
   "metadata": {
    "papermill": {
     "duration": 0.010018,
     "end_time": "2023-07-01T18:13:06.970644",
     "exception": false,
     "start_time": "2023-07-01T18:13:06.960626",
     "status": "completed"
    },
    "tags": []
   },
   "source": [
    "The Fare column has 1 missing value, and I will replace him with data['Fare'].mean():"
   ]
  },
  {
   "cell_type": "code",
   "execution_count": 10,
   "id": "fd2ace93",
   "metadata": {
    "execution": {
     "iopub.execute_input": "2023-07-01T18:13:06.993003Z",
     "iopub.status.busy": "2023-07-01T18:13:06.992467Z",
     "iopub.status.idle": "2023-07-01T18:13:06.999351Z",
     "shell.execute_reply": "2023-07-01T18:13:06.998069Z"
    },
    "papermill": {
     "duration": 0.020655,
     "end_time": "2023-07-01T18:13:07.001479",
     "exception": false,
     "start_time": "2023-07-01T18:13:06.980824",
     "status": "completed"
    },
    "tags": []
   },
   "outputs": [
    {
     "name": "stdout",
     "output_type": "stream",
     "text": [
      "The data['Fare'] missing val =\t 0\n"
     ]
    }
   ],
   "source": [
    "data['Fare'].fillna(data['Fare'].mean(), inplace=True)\n",
    "print (\"The data['Fare'] missing val =\\t\",data[\"Fare\"].isnull().sum())"
   ]
  },
  {
   "cell_type": "markdown",
   "id": "70bebfd2",
   "metadata": {
    "papermill": {
     "duration": 0.009503,
     "end_time": "2023-07-01T18:13:07.021144",
     "exception": false,
     "start_time": "2023-07-01T18:13:07.011641",
     "status": "completed"
    },
    "tags": []
   },
   "source": [
    "### * Dealing with missing data in the 'Age' column:\n",
    "* I will create a linear regression model to predict missing ages."
   ]
  },
  {
   "cell_type": "markdown",
   "id": "28732c2b",
   "metadata": {
    "papermill": {
     "duration": 0.009955,
     "end_time": "2023-07-01T18:13:07.041815",
     "exception": false,
     "start_time": "2023-07-01T18:13:07.031860",
     "status": "completed"
    },
    "tags": []
   },
   "source": [
    "Lets see the data destribution in age column before predict the missing values and after predict the missing values."
   ]
  },
  {
   "cell_type": "code",
   "execution_count": 11,
   "id": "a1d0b0dd",
   "metadata": {
    "execution": {
     "iopub.execute_input": "2023-07-01T18:13:07.063719Z",
     "iopub.status.busy": "2023-07-01T18:13:07.063098Z",
     "iopub.status.idle": "2023-07-01T18:13:07.349736Z",
     "shell.execute_reply": "2023-07-01T18:13:07.348426Z"
    },
    "papermill": {
     "duration": 0.30027,
     "end_time": "2023-07-01T18:13:07.351962",
     "exception": false,
     "start_time": "2023-07-01T18:13:07.051692",
     "status": "completed"
    },
    "tags": []
   },
   "outputs": [
    {
     "data": {
      "text/plain": [
       "<Axes: >"
      ]
     },
     "execution_count": 11,
     "metadata": {},
     "output_type": "execute_result"
    },
    {
     "data": {
      "image/png": "[encoded data removed]",
      "text/plain": [
       "<Figure size 640x480 with 1 Axes>"
      ]
     },
     "metadata": {},
     "output_type": "display_data"
    }
   ],
   "source": [
    "#before predict the missing values \n",
    "data['Age'].hist()"
   ]
  },
  {
   "cell_type": "markdown",
   "id": "2bf44d7a",
   "metadata": {
    "papermill": {
     "duration": 0.009733,
     "end_time": "2023-07-01T18:13:07.371836",
     "exception": false,
     "start_time": "2023-07-01T18:13:07.362103",
     "status": "completed"
    },
    "tags": []
   },
   "source": [
    "Now lets build the model to predict the missing values in the age column."
   ]
  },
  {
   "cell_type": "code",
   "execution_count": 12,
   "id": "7cdd0c4e",
   "metadata": {
    "execution": {
     "iopub.execute_input": "2023-07-01T18:13:07.394220Z",
     "iopub.status.busy": "2023-07-01T18:13:07.393811Z",
     "iopub.status.idle": "2023-07-01T18:13:07.796969Z",
     "shell.execute_reply": "2023-07-01T18:13:07.796035Z"
    },
    "papermill": {
     "duration": 0.417354,
     "end_time": "2023-07-01T18:13:07.799598",
     "exception": false,
     "start_time": "2023-07-01T18:13:07.382244",
     "status": "completed"
    },
    "tags": []
   },
   "outputs": [
    {
     "name": "stdout",
     "output_type": "stream",
     "text": [
      "done\n"
     ]
    }
   ],
   "source": [
    "from sklearn.linear_model import LinearRegression\n",
    "\n",
    "# Create a subset of the dataset with non-missing age values\n",
    "age_df = data[['Survived', 'Pclass', 'Age', 'Fare']]  # Include relevant features\n",
    "\n",
    "# Split into two subsets: one with missing ages and one without\n",
    "known_age = age_df.loc[age_df['Age'].notna()]\n",
    "unknown_age = age_df.loc[age_df['Age'].isna()]\n",
    "\n",
    "# Create a linear regression model to predict missing ages\n",
    "model = LinearRegression()\n",
    "model.fit(known_age.drop('Age', axis=1), known_age['Age'])\n",
    "predicted_age = model.predict(unknown_age.drop('Age', axis=1))\n",
    "\n",
    "# Fill in the missing age values with the predicted values\n",
    "data.loc[data['Age'].isna(), 'Age'] = predicted_age\n",
    "print(\"done\")"
   ]
  },
  {
   "cell_type": "code",
   "execution_count": 13,
   "id": "4ff7203f",
   "metadata": {
    "execution": {
     "iopub.execute_input": "2023-07-01T18:13:07.822825Z",
     "iopub.status.busy": "2023-07-01T18:13:07.822490Z",
     "iopub.status.idle": "2023-07-01T18:13:07.828498Z",
     "shell.execute_reply": "2023-07-01T18:13:07.827246Z"
    },
    "papermill": {
     "duration": 0.020767,
     "end_time": "2023-07-01T18:13:07.831034",
     "exception": false,
     "start_time": "2023-07-01T18:13:07.810267",
     "status": "completed"
    },
    "tags": []
   },
   "outputs": [
    {
     "name": "stdout",
     "output_type": "stream",
     "text": [
      "The data['Age'] missing val =\t 0\n"
     ]
    }
   ],
   "source": [
    "print (\"The data['Age'] missing val =\\t\",data[\"Age\"].isnull().sum())"
   ]
  },
  {
   "cell_type": "code",
   "execution_count": 14,
   "id": "3e1b4e47",
   "metadata": {
    "execution": {
     "iopub.execute_input": "2023-07-01T18:13:07.853324Z",
     "iopub.status.busy": "2023-07-01T18:13:07.852968Z",
     "iopub.status.idle": "2023-07-01T18:13:08.070694Z",
     "shell.execute_reply": "2023-07-01T18:13:08.069944Z"
    },
    "papermill": {
     "duration": 0.231503,
     "end_time": "2023-07-01T18:13:08.073005",
     "exception": false,
     "start_time": "2023-07-01T18:13:07.841502",
     "status": "completed"
    },
    "tags": []
   },
   "outputs": [
    {
     "data": {
      "text/plain": [
       "<Axes: >"
      ]
     },
     "execution_count": 14,
     "metadata": {},
     "output_type": "execute_result"
    },
    {
     "data": {
      "image/png": "[encoded data removed]",
      "text/plain": [
       "<Figure size 640x480 with 1 Axes>"
      ]
     },
     "metadata": {},
     "output_type": "display_data"
    }
   ],
   "source": [
    "#After predict the missing values in data['Age']\n",
    "data['Age'].hist()"
   ]
  },
  {
   "cell_type": "markdown",
   "id": "af61cba2",
   "metadata": {
    "papermill": {
     "duration": 0.010218,
     "end_time": "2023-07-01T18:13:08.094695",
     "exception": false,
     "start_time": "2023-07-01T18:13:08.084477",
     "status": "completed"
    },
    "tags": []
   },
   "source": [
    "## Wow incridable"
   ]
  },
  {
   "cell_type": "code",
   "execution_count": 15,
   "id": "d7bd3f40",
   "metadata": {
    "execution": {
     "iopub.execute_input": "2023-07-01T18:13:08.117896Z",
     "iopub.status.busy": "2023-07-01T18:13:08.116851Z",
     "iopub.status.idle": "2023-07-01T18:13:08.126192Z",
     "shell.execute_reply": "2023-07-01T18:13:08.125324Z"
    },
    "papermill": {
     "duration": 0.023479,
     "end_time": "2023-07-01T18:13:08.128617",
     "exception": false,
     "start_time": "2023-07-01T18:13:08.105138",
     "status": "completed"
    },
    "tags": []
   },
   "outputs": [
    {
     "name": "stdout",
     "output_type": "stream",
     "text": [
      "The total of missing values in each column:\n",
      "\n"
     ]
    },
    {
     "data": {
      "text/plain": [
       "Survived    0\n",
       "Pclass      0\n",
       "Sex         0\n",
       "Age         0\n",
       "Fare        0\n",
       "Embarked    0\n",
       "dtype: int64"
      ]
     },
     "execution_count": 15,
     "metadata": {},
     "output_type": "execute_result"
    }
   ],
   "source": [
    "print (\"The total of missing values in each column:\\n\");data.isnull().sum()"
   ]
  },
  {
   "cell_type": "markdown",
   "id": "fa19a697",
   "metadata": {
    "papermill": {
     "duration": 0.01039,
     "end_time": "2023-07-01T18:13:08.213070",
     "exception": false,
     "start_time": "2023-07-01T18:13:08.202680",
     "status": "completed"
    },
    "tags": []
   },
   "source": [
    "# Explaining the dataset:"
   ]
  },
  {
   "cell_type": "markdown",
   "id": "6f9b93ed",
   "metadata": {
    "papermill": {
     "duration": 0.010176,
     "end_time": "2023-07-01T18:13:08.233895",
     "exception": false,
     "start_time": "2023-07-01T18:13:08.223719",
     "status": "completed"
    },
    "tags": []
   },
   "source": [
    "The Survived column indicates whether the passenger survived (value 1) or not (value 0) in the Titanic shipwreck."
   ]
  },
  {
   "cell_type": "code",
   "execution_count": 7,
   "id": "ec715d0b",
   "metadata": {
    "execution": {
     "iopub.execute_input": "2023-07-01T18:13:08.256759Z",
     "iopub.status.busy": "2023-07-01T18:13:08.256375Z",
     "iopub.status.idle": "2023-07-01T18:13:08.262934Z",
     "shell.execute_reply": "2023-07-01T18:13:08.261658Z"
    },
    "papermill": {
     "duration": 0.020629,
     "end_time": "2023-07-01T18:13:08.265072",
     "exception": false,
     "start_time": "2023-07-01T18:13:08.244443",
     "status": "completed"
    },
    "tags": []
   },
   "outputs": [
    {
     "name": "stdout",
     "output_type": "stream",
     "text": [
      "Average of Survived: 0.36363636363636365\n"
     ]
    }
   ],
   "source": [
    "# Calculate the average of \"Survived\"\n",
    "survived_average = data[\"Survived\"].mean()\n",
    "\n",
    "# Print the average\n",
    "print(\"Average of Survived:\", survived_average)\n",
    "\n",
    "\n"
   ]
  },
  {
   "cell_type": "code",
   "execution_count": 9,
   "id": "9ec2fec7",
   "metadata": {
    "execution": {
     "iopub.execute_input": "2023-07-01T18:13:08.373549Z",
     "iopub.status.busy": "2023-07-01T18:13:08.373214Z",
     "iopub.status.idle": "2023-07-01T18:13:08.384979Z",
     "shell.execute_reply": "2023-07-01T18:13:08.384225Z"
    },
    "papermill": {
     "duration": 0.025215,
     "end_time": "2023-07-01T18:13:08.386672",
     "exception": false,
     "start_time": "2023-07-01T18:13:08.361457",
     "status": "completed"
    },
    "tags": []
   },
   "outputs": [
    {
     "data": {
      "text/html": [
       "<div>\n",
       "<style scoped>\n",
       "    .dataframe tbody tr th:only-of-type {\n",
       "        vertical-align: middle;\n",
       "    }\n",
       "\n",
       "    .dataframe tbody tr th {\n",
       "        vertical-align: top;\n",
       "    }\n",
       "\n",
       "    .dataframe thead th {\n",
       "        text-align: right;\n",
       "    }\n",
       "</style>\n",
       "<table border=\"1\" class=\"dataframe\">\n",
       "  <thead>\n",
       "    <tr style=\"text-align: right;\">\n",
       "      <th></th>\n",
       "      <th>Sex</th>\n",
       "      <th>Sex_Encoded</th>\n",
       "    </tr>\n",
       "  </thead>\n",
       "  <tbody>\n",
       "    <tr>\n",
       "      <th>0</th>\n",
       "      <td>male</td>\n",
       "      <td>1</td>\n",
       "    </tr>\n",
       "    <tr>\n",
       "      <th>1</th>\n",
       "      <td>female</td>\n",
       "      <td>2</td>\n",
       "    </tr>\n",
       "    <tr>\n",
       "      <th>2</th>\n",
       "      <td>male</td>\n",
       "      <td>1</td>\n",
       "    </tr>\n",
       "    <tr>\n",
       "      <th>3</th>\n",
       "      <td>male</td>\n",
       "      <td>1</td>\n",
       "    </tr>\n",
       "    <tr>\n",
       "      <th>4</th>\n",
       "      <td>female</td>\n",
       "      <td>2</td>\n",
       "    </tr>\n",
       "    <tr>\n",
       "      <th>5</th>\n",
       "      <td>male</td>\n",
       "      <td>1</td>\n",
       "    </tr>\n",
       "    <tr>\n",
       "      <th>6</th>\n",
       "      <td>female</td>\n",
       "      <td>2</td>\n",
       "    </tr>\n",
       "    <tr>\n",
       "      <th>7</th>\n",
       "      <td>male</td>\n",
       "      <td>1</td>\n",
       "    </tr>\n",
       "    <tr>\n",
       "      <th>8</th>\n",
       "      <td>female</td>\n",
       "      <td>2</td>\n",
       "    </tr>\n",
       "    <tr>\n",
       "      <th>9</th>\n",
       "      <td>male</td>\n",
       "      <td>1</td>\n",
       "    </tr>\n",
       "    <tr>\n",
       "      <th>10</th>\n",
       "      <td>male</td>\n",
       "      <td>1</td>\n",
       "    </tr>\n",
       "    <tr>\n",
       "      <th>11</th>\n",
       "      <td>male</td>\n",
       "      <td>1</td>\n",
       "    </tr>\n",
       "    <tr>\n",
       "      <th>12</th>\n",
       "      <td>female</td>\n",
       "      <td>2</td>\n",
       "    </tr>\n",
       "    <tr>\n",
       "      <th>13</th>\n",
       "      <td>male</td>\n",
       "      <td>1</td>\n",
       "    </tr>\n",
       "    <tr>\n",
       "      <th>14</th>\n",
       "      <td>female</td>\n",
       "      <td>2</td>\n",
       "    </tr>\n",
       "    <tr>\n",
       "      <th>15</th>\n",
       "      <td>female</td>\n",
       "      <td>2</td>\n",
       "    </tr>\n",
       "    <tr>\n",
       "      <th>16</th>\n",
       "      <td>male</td>\n",
       "      <td>1</td>\n",
       "    </tr>\n",
       "    <tr>\n",
       "      <th>17</th>\n",
       "      <td>male</td>\n",
       "      <td>1</td>\n",
       "    </tr>\n",
       "    <tr>\n",
       "      <th>18</th>\n",
       "      <td>female</td>\n",
       "      <td>2</td>\n",
       "    </tr>\n",
       "    <tr>\n",
       "      <th>19</th>\n",
       "      <td>female</td>\n",
       "      <td>2</td>\n",
       "    </tr>\n",
       "  </tbody>\n",
       "</table>\n",
       "</div>"
      ],
      "text/plain": [
       "       Sex  Sex_Encoded\n",
       "0     male            1\n",
       "1   female            2\n",
       "2     male            1\n",
       "3     male            1\n",
       "4   female            2\n",
       "5     male            1\n",
       "6   female            2\n",
       "7     male            1\n",
       "8   female            2\n",
       "9     male            1\n",
       "10    male            1\n",
       "11    male            1\n",
       "12  female            2\n",
       "13    male            1\n",
       "14  female            2\n",
       "15  female            2\n",
       "16    male            1\n",
       "17    male            1\n",
       "18  female            2\n",
       "19  female            2"
      ]
     },
     "execution_count": 9,
     "metadata": {},
     "output_type": "execute_result"
    }
   ],
   "source": [
    "\n",
    "\n",
    "data['Sex_Encoded'] = data['Sex'].map({'male': 1, 'female': 2})\n",
    "\n",
    "data[[\"Sex\",\"Sex_Encoded\"]].head(20)"
   ]
  },
  {
   "cell_type": "code",
   "execution_count": 19,
   "id": "a9206eb1",
   "metadata": {
    "execution": {
     "iopub.execute_input": "2023-07-01T18:13:08.802240Z",
     "iopub.status.busy": "2023-07-01T18:13:08.801879Z",
     "iopub.status.idle": "2023-07-01T18:13:08.937272Z",
     "shell.execute_reply": "2023-07-01T18:13:08.936240Z"
    },
    "papermill": {
     "duration": 0.15082,
     "end_time": "2023-07-01T18:13:08.940016",
     "exception": false,
     "start_time": "2023-07-01T18:13:08.789196",
     "status": "completed"
    },
    "tags": []
   },
   "outputs": [
    {
     "data": {
      "image/png": "[encoded data removed]",
      "text/plain": [
       "<Figure size 640x480 with 1 Axes>"
      ]
     },
     "metadata": {},
     "output_type": "display_data"
    }
   ],
   "source": [
    "\n",
    "# Scatter plot\n",
    "plt.scatter(data['Sex_Encoded'], data['Survived'])\n",
    "\n",
    "# Trend line\n",
    "z = np.polyfit(data['Sex_Encoded'], data['Survived'], 1)\n",
    "p = np.poly1d(z)\n",
    "plt.plot(data['Sex_Encoded'], p(data['Sex_Encoded']), \"r--\")\n",
    "\n",
    "# Plot labels\n",
    "plt.xlabel('Sex_Encoded')\n",
    "plt.ylabel('Survived')\n",
    "\n",
    "# Plot title\n",
    "plt.title('Scatter Plot: Survived vs Sex_Encoded')\n",
    "plt.yticks([0, 1], ['No', 'Yes'])\n",
    "plt.xticks([1,2], ['Male', 'Female'])\n",
    "# Show the plot\n",
    "plt.show()\n"
   ]
  },
  {
   "cell_type": "code",
   "execution_count": 20,
   "id": "fdf4695b",
   "metadata": {
    "execution": {
     "iopub.execute_input": "2023-07-01T18:13:09.004801Z",
     "iopub.status.busy": "2023-07-01T18:13:09.003059Z",
     "iopub.status.idle": "2023-07-01T18:13:09.180445Z",
     "shell.execute_reply": "2023-07-01T18:13:09.179496Z"
    },
    "papermill": {
     "duration": 0.194778,
     "end_time": "2023-07-01T18:13:09.182737",
     "exception": false,
     "start_time": "2023-07-01T18:13:08.987959",
     "status": "completed"
    },
    "tags": []
   },
   "outputs": [
    {
     "name": "stdout",
     "output_type": "stream",
     "text": [
      "Number of Males: 266\n",
      "Number of Females: 152\n",
      "Number of Male Survivors: 0\n",
      "Number of Female Survivors: 152\n"
     ]
    },
    {
     "data": {
      "image/png": "[encoded data removed]",
      "text/plain": [
       "<Figure size 640x480 with 1 Axes>"
      ]
     },
     "metadata": {},
     "output_type": "display_data"
    }
   ],
   "source": [
    "num_male = len(data[data['Sex'] == 'male'])\n",
    "num_female = len(data[data['Sex'] == 'female'])\n",
    "\n",
    "male_survivors = len(data[(data['Sex'] == 'male') & (data['Survived'] == 1)])\n",
    "female_survivors = len(data[(data['Sex'] == 'female') & (data['Survived'] == 1)])\n",
    "\n",
    "print(\"Number of Males:\", num_male)\n",
    "print(\"Number of Females:\", num_female)\n",
    "print(\"Number of Male Survivors:\", male_survivors)\n",
    "print(\"Number of Female Survivors:\", female_survivors)\n",
    "\n",
    "\n",
    "labels = ['Males', 'Females', 'Male Survivors', 'Female Survivors']\n",
    "counts = [num_male, num_female, male_survivors, female_survivors]\n",
    "\n",
    "# Plotting\n",
    "plt.bar(labels, counts)\n",
    "plt.xlabel('Category')\n",
    "plt.ylabel('Count')\n",
    "plt.title('Counts of Males, Females, Male Survivors, and Female Survivors')\n",
    "\n",
    "# Display the plot\n",
    "plt.show()"
   ]
  },
  {
   "cell_type": "code",
   "execution_count": 21,
   "id": "ef8e8868",
   "metadata": {
    "execution": {
     "iopub.execute_input": "2023-07-01T18:13:09.259776Z",
     "iopub.status.busy": "2023-07-01T18:13:09.259446Z",
     "iopub.status.idle": "2023-07-01T18:13:09.500632Z",
     "shell.execute_reply": "2023-07-01T18:13:09.499061Z"
    },
    "papermill": {
     "duration": 0.256596,
     "end_time": "2023-07-01T18:13:09.502518",
     "exception": false,
     "start_time": "2023-07-01T18:13:09.245922",
     "status": "completed"
    },
    "tags": []
   },
   "outputs": [
    {
     "data": {
      "image/png": "[encoded data removed]",
      "text/plain": [
       "<Figure size 640x480 with 1 Axes>"
      ]
     },
     "metadata": {},
     "output_type": "display_data"
    }
   ],
   "source": [
    "import numpy as np\n",
    "import matplotlib.pyplot as plt\n",
    "\n",
    "Q1 = data['Fare'].quantile(0.25)\n",
    "Q3 = data['Fare'].quantile(0.75)\n",
    "IQR = Q3 - Q1\n",
    "\n",
    "# Define the upper and lower bounds for outliers\n",
    "lower_bound = Q1 - 1.5 * IQR\n",
    "upper_bound = Q3 + 1.5 * IQR\n",
    "\n",
    "# Remove outliers from the Fare column\n",
    "cleaned_data = data[(data['Fare'] >= lower_bound) & (data['Fare'] <= upper_bound)]\n",
    "\n",
    "# Print the cleaned dataset\n",
    "#print(cleaned_data)\n",
    "\n",
    "\n",
    "# Calculate the trendline\n",
    "fit = np.polyfit(cleaned_data['Fare'], cleaned_data['Survived'], 1)\n",
    "trendline = np.polyval(fit, cleaned_data['Fare'])\n",
    "\n",
    "# Plot the scatter plot with trendline\n",
    "plt.scatter(cleaned_data['Fare'], cleaned_data['Survived'])\n",
    "plt.plot(cleaned_data['Fare'], trendline, color='red', linestyle='--', label='Trendline')\n",
    "plt.xlabel('Fare')\n",
    "plt.ylabel('Survived')\n",
    "plt.title('Correlation between Survived and Fare')\n",
    "plt.legend()\n",
    "plt.show()\n"
   ]
  },
  {
   "cell_type": "code",
   "execution_count": 22,
   "id": "a01d9a6f",
   "metadata": {
    "execution": {
     "iopub.execute_input": "2023-07-01T18:13:09.581869Z",
     "iopub.status.busy": "2023-07-01T18:13:09.581506Z",
     "iopub.status.idle": "2023-07-01T18:13:09.849769Z",
     "shell.execute_reply": "2023-07-01T18:13:09.848323Z"
    },
    "papermill": {
     "duration": 0.284548,
     "end_time": "2023-07-01T18:13:09.851662",
     "exception": false,
     "start_time": "2023-07-01T18:13:09.567114",
     "status": "completed"
    },
    "tags": []
   },
   "outputs": [
    {
     "data": {
      "image/png": "[encoded data removed]",
      "text/plain": [
       "<Figure size 640x480 with 1 Axes>"
      ]
     },
     "metadata": {},
     "output_type": "display_data"
    }
   ],
   "source": [
    "\n",
    "import seaborn as sns\n",
    "\n",
    "# Assuming 'data' is your DataFrame containing the 'Survived' and 'Age' columns\n",
    "sns.regplot(x='Age', y='Survived', data=data, scatter=True)\n",
    "plt.xlabel('Age')\n",
    "plt.ylabel('Survived')\n",
    "plt.title('Correlation between Survived and Age with Trendline')\n",
    "plt.yticks([0, 1], ['No', 'Yes'])\n",
    "plt.show()"
   ]
  }
 ],
 "metadata": {
  "kernelspec": {
   "display_name": "Python 3 (ipykernel)",
   "language": "python",
   "name": "python3"
  },
  "language_info": {
   "codemirror_mode": {
    "name": "ipython",
    "version": 3
   },
   "file_extension": ".py",
   "mimetype": "text/x-python",
   "name": "python",
   "nbconvert_exporter": "python",
   "pygments_lexer": "ipython3",
   "version": "3.10.9"
  },
  "papermill": {
   "default_parameters": {},
   "duration": 14.999573,
   "end_time": "2023-07-01T18:13:10.989572",
   "environment_variables": {},
   "exception": null,
   "input_path": "__notebook__.ipynb",
   "output_path": "__notebook__.ipynb",
   "parameters": {},
   "start_time": "2023-07-01T18:12:55.989999",
   "version": "2.4.0"
  }
 },
 "nbformat": 4,
 "nbformat_minor": 5
}
